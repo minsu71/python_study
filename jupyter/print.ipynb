{
 "cells": [
  {
   "cell_type": "code",
   "execution_count": 4,
   "id": "c99bce73",
   "metadata": {},
   "outputs": [
    {
     "data": {
      "text/plain": [
       "9"
      ]
     },
     "execution_count": 4,
     "metadata": {},
     "output_type": "execute_result"
    }
   ],
   "source": [
    "3**3\n",
    "\n",
    "3*3"
   ]
  },
  {
   "cell_type": "code",
   "execution_count": 9,
   "id": "fdd14830",
   "metadata": {},
   "outputs": [
    {
     "data": {
      "text/plain": [
       "2.0"
      ]
     },
     "execution_count": 9,
     "metadata": {},
     "output_type": "execute_result"
    }
   ],
   "source": [
    "max(10, 50)\n",
    "min(100, 40)\n",
    "\n",
    "from math import *\n",
    "sqrt(4.0)"
   ]
  },
  {
   "cell_type": "code",
   "execution_count": 10,
   "id": "3d5a9f4c",
   "metadata": {},
   "outputs": [
    {
     "name": "stdout",
     "output_type": "stream",
     "text": [
      "만나서 반갑습니다.정민수씨\n",
      "네, 그러면 당신은 이미26살이군요.정민수씨\n"
     ]
    }
   ],
   "source": [
    "name = input(\"이름이 무엇인가요?\")\n",
    "print(\"만나서 반갑습니다.\" + name + \"씨\")\n",
    "age = input(\"나이는요?\")\n",
    "print(\"네, 그러면 당신은 이미\" + age+ \"살이군요.\" + name + \"씨\")"
   ]
  },
  {
   "cell_type": "code",
   "execution_count": 12,
   "id": "984f08bc",
   "metadata": {},
   "outputs": [
    {
     "name": "stdout",
     "output_type": "stream",
     "text": [
      "58\n"
     ]
    }
   ],
   "source": [
    "x = int(input(\"첫 번째 정수:\"))\n",
    "y = int(input(\"두 번째 정수:\"))\n",
    "sum = x+y\n",
    "print(sum)"
   ]
  },
  {
   "cell_type": "code",
   "execution_count": 13,
   "id": "22d94fd5",
   "metadata": {},
   "outputs": [
    {
     "data": {
      "text/plain": [
       "0.30000000000000004"
      ]
     },
     "execution_count": 13,
     "metadata": {},
     "output_type": "execute_result"
    }
   ],
   "source": [
    "a = 0.1\n",
    "b = 0.2\n",
    "a+b"
   ]
  },
  {
   "cell_type": "code",
   "execution_count": 14,
   "id": "67de4029",
   "metadata": {},
   "outputs": [
    {
     "name": "stdout",
     "output_type": "stream",
     "text": [
      "첫 번째\n",
      " 두 번째 줄\n"
     ]
    }
   ],
   "source": [
    "a = \"첫 번째\\n 두 번째 줄\"\n",
    "print(a)"
   ]
  },
  {
   "cell_type": "code",
   "execution_count": 18,
   "id": "afb77826",
   "metadata": {},
   "outputs": [
    {
     "name": "stdout",
     "output_type": "stream",
     "text": [
      "현재 시간은 12:00pm입니다. 그리고 온도는 25도 입니다.\n"
     ]
    }
   ],
   "source": [
    "message = \"현재 시간은 %s입니다. 그리고 온도는 %d도 입니다.\"\n",
    "time = \"12:00pm\"\n",
    "temp = 25\n",
    "print(message %(time, temp))"
   ]
  },
  {
   "cell_type": "code",
   "execution_count": 19,
   "id": "a35e8a61",
   "metadata": {},
   "outputs": [
    {
     "name": "stdout",
     "output_type": "stream",
     "text": [
      "오늘은 7월 3일 입니다.\n"
     ]
    }
   ],
   "source": [
    "message = \"오늘은 %d월 %d일 입니다.\"\n",
    "mon = int(input())\n",
    "date = int(input())\n",
    "print(message %(mon, date))"
   ]
  },
  {
   "cell_type": "code",
   "execution_count": 24,
   "id": "3b2f3fe1",
   "metadata": {},
   "outputs": [
    {
     "name": "stdout",
     "output_type": "stream",
     "text": [
      "15 5 50 7.5 10 5\n"
     ]
    }
   ],
   "source": [
    "\n",
    "x = int(input())\n",
    "y = int(input())\n",
    "\n",
    "s = x+y\n",
    "m = x-y\n",
    "n = x*y\n",
    "b = (x+y)/2\n",
    "q = max(x, y)\n",
    "w = min(x, y)\n",
    "\n",
    "print(s, m, n, b, q, w)"
   ]
  },
  {
   "cell_type": "code",
   "execution_count": 25,
   "id": "a7006fb3",
   "metadata": {},
   "outputs": [
    {
     "name": "stdout",
     "output_type": "stream",
     "text": [
      "32\n"
     ]
    }
   ],
   "source": [
    "x = 2\n",
    "y = 4\n",
    "z = 3\n",
    "sum = x*2+y*4+z*4\n",
    "print(sum)"
   ]
  },
  {
   "cell_type": "code",
   "execution_count": null,
   "id": "2647ad59",
   "metadata": {},
   "outputs": [],
   "source": [
    "x = int(input())\n",
    "y = int(input())\n",
    "z = x+y-1"
   ]
  },
  {
   "cell_type": "code",
   "execution_count": null,
   "id": "1c28819a",
   "metadata": {},
   "outputs": [],
   "source": [
    "hour = int(input())\n",
    "min = int(input())\n",
    "sum = hour*3600+min*60\n",
    "print(sum)"
   ]
  },
  {
   "cell_type": "code",
   "execution_count": null,
   "id": "cf69e226",
   "metadata": {},
   "outputs": [],
   "source": [
    "x = float(input())\n",
    "c = (X-32.0)*(5/9)\n",
    "print(c)"
   ]
  },
  {
   "cell_type": "code",
   "execution_count": null,
   "id": "3b516ac9",
   "metadata": {},
   "outputs": [],
   "source": [
    "x = int(input())\n",
    "y = x+0.1*x\n",
    "print(y)"
   ]
  },
  {
   "cell_type": "code",
   "execution_count": 30,
   "id": "9fb76c05",
   "metadata": {},
   "outputs": [
    {
     "name": "stdout",
     "output_type": "stream",
     "text": [
      "2.8284271247461903\n"
     ]
    }
   ],
   "source": [
    "x1 = int(input())\n",
    "y1 = int(input())\n",
    "x2 = int(input())\n",
    "y2 = int(input())\n",
    "\n",
    "s = sqrt((x1-x2)**2+(y1-y2)**2)\n",
    "print(s)"
   ]
  },
  {
   "cell_type": "code",
   "execution_count": 4,
   "id": "76c6b2da",
   "metadata": {},
   "outputs": [
    {
     "name": "stdout",
     "output_type": "stream",
     "text": [
      "10\n"
     ]
    }
   ],
   "source": [
    "x = input()\n",
    "\n",
    "sum = int(x[0])+int(x[1])+int(x[2])+int(x[3])\n",
    "print(sum)"
   ]
  },
  {
   "cell_type": "code",
   "execution_count": 19,
   "id": "72984087",
   "metadata": {},
   "outputs": [
    {
     "name": "stdout",
     "output_type": "stream",
     "text": [
      "5 6 7 8\n",
      "26\n"
     ]
    }
   ],
   "source": [
    "x = int(input())\n",
    "\n",
    "a = x//1000\n",
    "b = x%1000\n",
    "c = b//100\n",
    "d = x%100\n",
    "e = d//10\n",
    "f = x%10\n",
    "print(a,c,e,f)\n",
    "sum = a+c+e+f\n",
    "print(sum)"
   ]
  },
  {
   "cell_type": "code",
   "execution_count": null,
   "id": "f1659555",
   "metadata": {},
   "outputs": [
    {
     "name": "stdout",
     "output_type": "stream",
     "text": [
      "123 , 456\n",
      "123,456\n"
     ]
    }
   ],
   "source": [
    "num = int(input(\"숫자를 입력하시오: \"))\n",
    "\n",
    "if num>=100000 and num<1000000:\n",
    "    moreT = num//1000\n",
    "    lessT = num%1000\n",
    "    print(moreT,\",\",lessT)\n",
    "    print(str(moreT)+\",\"+str(lessT))\n"
   ]
  },
  {
   "cell_type": "code",
   "execution_count": null,
   "id": "2d605450",
   "metadata": {},
   "outputs": [
    {
     "name": "stdout",
     "output_type": "stream",
     "text": [
      "미성년자입니다.\n"
     ]
    }
   ],
   "source": [
    "age = int(input(\"나이를 입력하세요: \"))\n",
    "if age >= 20:\n",
    "    print(\"성인입니다.\")\n",
    "elif age >= 18:\n",
    "    print(\"미성년자입니다.\")\n",
    "elif age>=13:\n",
    "    print(\"청소년입니다.\")\n",
    "elif age >=7:\n",
    "    print(\"어린이입니다.\")\n",
    "else:\n",
    "    print(\"잘못된 입력입니다.\")\n"
   ]
  },
  {
   "cell_type": "code",
   "execution_count": null,
   "id": "68abc274",
   "metadata": {},
   "outputs": [
    {
     "data": {
      "text/plain": [
       "False"
      ]
     },
     "execution_count": 30,
     "metadata": {},
     "output_type": "execute_result"
    }
   ],
   "source": [
    "2==2\n",
    "2>=3\n"
   ]
  },
  {
   "cell_type": "code",
   "execution_count": 31,
   "id": "a0cba31e",
   "metadata": {},
   "outputs": [
    {
     "name": "stdout",
     "output_type": "stream",
     "text": [
      "학점: B\n"
     ]
    }
   ],
   "source": [
    "score = int(input(\"성적을 입력하시오: \"))\n",
    "\n",
    "if score >= 90:\n",
    "    print(\"학점: A\")\n",
    "elif score >= 80:\n",
    "    print(\"학점: B\")\n",
    "elif score >= 70:\n",
    "    print(\"학점: C\")\n",
    "elif score >= 60:\n",
    "    print(\"학점: D\")\n",
    "else:\n",
    "    print(\"학점: F\")"
   ]
  },
  {
   "cell_type": "code",
   "execution_count": null,
   "id": "d0932913",
   "metadata": {},
   "outputs": [],
   "source": [
    "s = input(\"사과의 상태를 입력하시오: \")\n",
    "c = int(input(\"사과 1개의 가격을 입력하시오: \"))\n",
    "\n",
    "if s ==\"신선\":\n",
    "    if c < 1000:\n",
    "        print(\"10개를 산다.\")\n",
    "    else:\n",
    "        print(\"5개를 산다.\")\n",
    "elif s ==\"오래된\":\n",
    "    if c < 500:\n",
    "        print(\"21개를 산다.\")\n",
    "    else:\n",
    "        print(\"11개를 산다.\")\n",
    "else:\n",
    "    print(\"사과를 사지 않는다\")\n"
   ]
  },
  {
   "cell_type": "code",
   "execution_count": null,
   "id": "101e4c00",
   "metadata": {},
   "outputs": [],
   "source": [
    "a = int(input(\"첫 번째 정수: \"))\n",
    "b = int(input(\"두 번째 정수: \"))\n",
    "\n",
    "if a%b ==0:\n",
    "    print(\"약수입니다.\")\n",
    "else:\n",
    "    print(\"약수가 아닙니다.\")"
   ]
  },
  {
   "cell_type": "code",
   "execution_count": null,
   "id": "cf2bb43f",
   "metadata": {},
   "outputs": [],
   "source": [
    "x = int(input(\"현재 온도: \"))\n",
    "if x >=25:\n",
    "    print(\"반바지를 추천\")\n",
    "else:\n",
    "    print(\"긴바지를 추천\")"
   ]
  },
  {
   "cell_type": "code",
   "execution_count": null,
   "id": "db1ee7f8",
   "metadata": {},
   "outputs": [],
   "source": [
    "x = input(\"문자를 입력하세요: \")\n",
    "\n",
    "if (x == \"r\" or x == \"R\"):\n",
    "    print(\"Rectangle\")\n",
    "elif (x == \"t\" or x ==\"T\"):\n",
    "    print(\"Triangle\")\n",
    "elif (x == \"c\" or x ==\"C\"):\n",
    "    print(\"Circle\"):\n",
    "else:\n",
    "    print(\"Unknown\")"
   ]
  },
  {
   "cell_type": "code",
   "execution_count": null,
   "id": "e0cf58e4",
   "metadata": {},
   "outputs": [],
   "source": [
    "x = int(input(\"반지름을 입력하세요: \"))\n",
    "if x>0:\n",
    "    print(3.14*x**2)\n",
    "else:\n",
    "    print(\"잘못된 값입니다.\")"
   ]
  },
  {
   "cell_type": "code",
   "execution_count": 17,
   "id": "263889b6",
   "metadata": {},
   "outputs": [
    {
     "name": "stdout",
     "output_type": "stream",
     "text": [
      "1\n"
     ]
    }
   ],
   "source": [
    "a = int(input(\"첫 번째 정수: \"))\n",
    "b = int(input(\"두 번째 정수: \"))\n",
    "c = int(input(\"세 법째 정수: \"))\n",
    "\n",
    "if a > b:\n",
    "    if b > c:\n",
    "        print(c)\n",
    "    else:\n",
    "        print(b)\n",
    "else:\n",
    "    if a > c:\n",
    "        print(c)\n",
    "    else:\n",
    "        print(a)"
   ]
  },
  {
   "cell_type": "code",
   "execution_count": null,
   "id": "48136a36",
   "metadata": {},
   "outputs": [],
   "source": [
    "a = int(input(\"키를 입력하세요: \"))\n",
    "b = int(input(\"나이를 입력하세요: \"))\n",
    "\n",
    "if (a>=140 and b>=10):\n",
    "    print(\"입장가능\")\n",
    "else:\n",
    "    print(\"입장불가능\")"
   ]
  },
  {
   "cell_type": "code",
   "execution_count": null,
   "id": "eb0476db",
   "metadata": {},
   "outputs": [],
   "source": [
    "a = int(input(\"키를 입력하세요: \"))\n",
    "b = (a - 100)*0.9\n",
    "\n",
    "if b >= 50:\n",
    "    print(\"과체중\")\n",
    "elif b == 50:\n",
    "    print(\"표준체중\")\n",
    "else:\n",
    "    print(\"저체중\")"
   ]
  },
  {
   "cell_type": "code",
   "execution_count": null,
   "id": "e96bea2e",
   "metadata": {},
   "outputs": [
    {
     "name": "stdout",
     "output_type": "stream",
     "text": [
      "정답입니다.\n",
      "3 3\n",
      "0\n",
      "6\n"
     ]
    }
   ],
   "source": [
    "import random\n",
    "\n",
    "num1 = random.randint(1, 10)\n",
    "num2 = random.randint(1, 10)\n",
    "x = random.randint(0,3)\n",
    "\n",
    "\n",
    "if x ==0:\n",
    "    sum = num1+num2\n",
    "    reply = int(input(\"{0}+{1}의 값은?\" .format(num1, num2)))\n",
    "    if reply == sum:\n",
    "        print(\"정답입니다.\")\n",
    "    else:\n",
    "        print(\"틀렸습니다.\")\n",
    "elif x==1:\n",
    "    sum = num1-num2\n",
    "    reply = int(input(\"{0}-{1}의 값은?\" .format(num1, num2)))\n",
    "    if reply == sum:\n",
    "        print(\"정답입니다.\")\n",
    "    else:\n",
    "        print(\"틀렸습니다.\")\n",
    "\n",
    "elif x==2:\n",
    "    sum = num1*num2\n",
    "    reply = int(input(\"{0}*{1}의 값은?\" .format(num1, num2)))\n",
    "    if reply == sum:\n",
    "        print(\"정답입니다.\")\n",
    "    else:\n",
    "        print(\"틀렸습니다.\")\n",
    "\n",
    "else:\n",
    "    sum = num1/num2\n",
    "    reply = int(input(\"{0}/{1}의 값은?\" .format(num1, num2)))\n",
    "    if reply == sum:\n",
    "        print(\"정답입니다.\")\n",
    "    else:\n",
    "        print(\"틀렸습니다.\")\n",
    "\n",
    "\n",
    "print(num1, num2)\n",
    "print(x)\n",
    "print(sum)\n",
    "\n"
   ]
  },
  {
   "cell_type": "code",
   "execution_count": 20,
   "id": "5c3dd540",
   "metadata": {},
   "outputs": [
    {
     "ename": "SyntaxError",
     "evalue": "invalid syntax (3160137331.py, line 7)",
     "output_type": "error",
     "traceback": [
      "\u001b[1;36m  Cell \u001b[1;32mIn[20], line 7\u001b[1;36m\u001b[0m\n\u001b[1;33m    match x:\u001b[0m\n\u001b[1;37m          ^\u001b[0m\n\u001b[1;31mSyntaxError\u001b[0m\u001b[1;31m:\u001b[0m invalid syntax\n"
     ]
    }
   ],
   "source": [
    "import random\n",
    "\n",
    "num1 = random.randint(1, 10)\n",
    "num2 = random.randint(1, 10)\n",
    "x = random.randint(0,3)\n",
    "\n",
    "match x:\n",
    "    case 0:\n",
    "        sum = num1+num2\n",
    "        reply = int(input(\"{0}+{1}의 값은?\" .format(num1, num2)))\n",
    "        if reply == sum:\n",
    "            print(\"정답입니다.\")\n",
    "        else:\n",
    "            print(\"틀렸습니다.\")\n",
    "    case 1:\n",
    "        sum = num1-num2\n",
    "        reply = int(input(\"{0}-{1}의 값은?\" .format(num1, num2)))\n",
    "        if reply == sum:\n",
    "            print(\"정답입니다.\")\n",
    "        else:\n",
    "            print(\"틀렸습니다.\")\n",
    "\n",
    "    case 2:\n",
    "        sum = num1*num2\n",
    "        reply = int(input(\"{0}*{1}의 값은?\" .format(num1, num2)))\n",
    "        if reply == sum:\n",
    "            print(\"정답입니다.\")\n",
    "        else:\n",
    "            print(\"틀렸습니다.\")\n",
    "\n",
    "    case 3:\n",
    "        sum = num1/num2\n",
    "        reply = int(input(\"{0}/{1}의 값은?\" .format(num1, num2)))\n",
    "        if reply == sum:\n",
    "            print(\"정답입니다.\")\n",
    "        else:\n",
    "            print(\"틀렸습니다.\")"
   ]
  },
  {
   "cell_type": "code",
   "execution_count": 13,
   "id": "2b029cdd",
   "metadata": {},
   "outputs": [
    {
     "name": "stdout",
     "output_type": "stream",
     "text": [
      "0 보\n",
      "졌습니다.\n"
     ]
    }
   ],
   "source": [
    "import random\n",
    "\n",
    "x = input(\"가위,바위,보 중에 선택하세요: \")\n",
    "num1 = random.randint(0, 2)\n",
    "\n",
    "if x == \"가위\":\n",
    "    s = 0\n",
    "elif x == \"바위\":\n",
    "    s = 1\n",
    "elif x == \"보\":\n",
    "    s = 2\n",
    "else:\n",
    "    print(\"가위,바위,보 중에서 입력하세요.\")\n",
    "\n",
    "print(num1, x)\n",
    "\n",
    "\n",
    "if num1 == s:\n",
    "    print(\"비겼습니다.\")\n",
    "elif num1 == 0:\n",
    "    if s == 1:\n",
    "        print(\"이겼습니다.\")\n",
    "    else:\n",
    "        print(\"졌습니다.\")\n",
    "elif num1 == 1:\n",
    "    if s == 0:\n",
    "        print(\"졌습니다.\")\n",
    "    else:\n",
    "        print(\"이겼습니다.\")\n",
    "elif num1 == 2:\n",
    "    if s == 0:\n",
    "        print(\"이겼습니다.\")\n",
    "    else:\n",
    "        print(\"졌습니다.\")\n"
   ]
  },
  {
   "cell_type": "code",
   "execution_count": 15,
   "id": "0fa6371d",
   "metadata": {},
   "outputs": [
    {
     "name": "stdout",
     "output_type": "stream",
     "text": [
      "24.0\n"
     ]
    }
   ],
   "source": [
    "a = float(input(\"값을 입력하세요: \"))\n",
    "\n",
    "if a <=0:\n",
    "    fx = a**2 - 9*a +2\n",
    "else:\n",
    "    fx = 7*a + 2\n",
    "\n",
    "print(fx)"
   ]
  },
  {
   "cell_type": "code",
   "execution_count": 21,
   "id": "8a4a89ca",
   "metadata": {},
   "outputs": [
    {
     "name": "stdout",
     "output_type": "stream",
     "text": [
      "안녕하세요\n",
      "안녕하세요\n",
      "안녕하세요\n",
      "안녕하세요\n",
      "안녕하세요\n"
     ]
    }
   ],
   "source": [
    "for x in range(5):\n",
    "    print(\"안녕하세요\")"
   ]
  },
  {
   "cell_type": "code",
   "execution_count": 31,
   "id": "fd2249b9",
   "metadata": {},
   "outputs": [
    {
     "name": "stdout",
     "output_type": "stream",
     "text": [
      "0\n",
      "2\n",
      "4\n",
      "6\n"
     ]
    }
   ],
   "source": [
    "for x in range(0,7,2):\n",
    "    print(x)"
   ]
  },
  {
   "cell_type": "code",
   "execution_count": 28,
   "id": "62cdbd44",
   "metadata": {},
   "outputs": [
    {
     "name": "stdout",
     "output_type": "stream",
     "text": [
      "h\n",
      "e\n",
      "l\n",
      "l\n",
      "o\n"
     ]
    }
   ],
   "source": [
    "for x in (\"hello\"):\n",
    "    print(x)"
   ]
  },
  {
   "cell_type": "code",
   "execution_count": 32,
   "id": "845b3bc7",
   "metadata": {},
   "outputs": [
    {
     "name": "stdout",
     "output_type": "stream",
     "text": [
      "hello\n",
      "hi\n",
      "every\n"
     ]
    }
   ],
   "source": [
    "for x in (\"hello\", \"hi\", \"every\"):\n",
    "    print(x)"
   ]
  },
  {
   "cell_type": "code",
   "execution_count": 33,
   "id": "c83861b6",
   "metadata": {},
   "outputs": [
    {
     "name": "stdout",
     "output_type": "stream",
     "text": [
      "현재 확인 중인 과일: apple\n",
      "현재 확인 중인 과일: banana\n",
      "찾는 과일  orange 을(를) 찾았습니다\n",
      "탐색을 완료했습니다.\n"
     ]
    }
   ],
   "source": [
    "fruits = [\"apple\", \"banana\", \"orange\", \"grape\", \"kiwi\"]\n",
    "search_fruits = \"orange\"\n",
    "\n",
    "for fruit in fruits:\n",
    "    if fruit == search_fruits:\n",
    "        print(f\"찾는 과일  {search_fruits} 을(를) 찾았습니다\")\n",
    "        break\n",
    "    print(f\"현재 확인 중인 과일: {fruit}\")\n",
    "\n",
    "print(\"탐색을 완료했습니다.\")"
   ]
  },
  {
   "cell_type": "code",
   "execution_count": 34,
   "id": "ca9bf2c2",
   "metadata": {},
   "outputs": [
    {
     "name": "stdout",
     "output_type": "stream",
     "text": [
      "환영합니다.\n",
      "환영합니다.\n",
      "환영합니다.\n",
      "환영합니다.\n",
      "환영합니다.\n",
      "반복이 종료되었습니다.\n"
     ]
    }
   ],
   "source": [
    "i = 0\n",
    "while i < 5:\n",
    "    print(\"환영합니다.\")\n",
    "    i = i + 1\n",
    "print(\"반복이 종료되었습니다.\")"
   ]
  },
  {
   "cell_type": "code",
   "execution_count": 35,
   "id": "1a1c29bd",
   "metadata": {},
   "outputs": [
    {
     "name": "stdout",
     "output_type": "stream",
     "text": [
      "종료하려면 음수값을 입력하세요.\n",
      "평균 점수는 29.0 입니다.\n"
     ]
    }
   ],
   "source": [
    "score = 0\n",
    "total_sum = 0\n",
    "c = 0\n",
    "print(\"종료하려면 음수값을 입력하세요.\")\n",
    "while score >=0:\n",
    "    score = int(input(\"정수를 입력하세요: \"))\n",
    "    if score > 0:\n",
    "        total_sum += score\n",
    "        c += 1\n",
    "if c > 0:\n",
    "    average = total_sum / c\n",
    "    print(\"평균 점수는\", average, \"입니다.\")"
   ]
  },
  {
   "cell_type": "code",
   "execution_count": 46,
   "id": "76fa6dfe",
   "metadata": {},
   "outputs": [
    {
     "name": "stdout",
     "output_type": "stream",
     "text": [
      "* * * * * \n",
      "\n",
      "* * * * * \n",
      "\n",
      "* * * * * \n",
      "\n",
      "* * * * * \n",
      "\n"
     ]
    }
   ],
   "source": [
    "x = int(input(\"가로: \"))\n",
    "y = int(input(\"세로: \"))\n",
    "\n",
    "\n",
    "for k in range(x):\n",
    "    for z in range(y):\n",
    "        print(\"*\", end=\" \")\n",
    "    print(\"\\n\")\n"
   ]
  },
  {
   "cell_type": "code",
   "execution_count": null,
   "id": "14adcae5",
   "metadata": {},
   "outputs": [
    {
     "name": "stdout",
     "output_type": "stream",
     "text": [
      "True\n",
      "안녕하세요\n",
      "안녕하세요\n",
      "모음의 개수 0\n",
      "자음의 개수 5\n"
     ]
    }
   ],
   "source": [
    "original = input(\"문자열을 입력하시오.: \")\n",
    "word = original.lower()\n",
    "x = 0\n",
    "y = 0\n",
    "print(original.isalpha())\n",
    "print(word)\n",
    "print(original)\n",
    "if len(original) > 0 and original.isalpha():\n",
    "    for char in word:\n",
    "        if char in \"aeiou\":\n",
    "            x = x+1\n",
    "        else:\n",
    "            y = y + 1\n",
    "elif original.isalpha() == false:\n",
    "    print(\"영어로 입력하세요.\")\n",
    "\n",
    "print(\"모음의 개수\", x)\n",
    "print(\"자음의 개수\", y)"
   ]
  },
  {
   "cell_type": "code",
   "execution_count": 56,
   "id": "6b3d8f94",
   "metadata": {},
   "outputs": [
    {
     "name": "stdout",
     "output_type": "stream",
     "text": [
      "2 4 6 8 10 12 14 16 18 20 22 24 26 28 30 32 34 36 38 40 42 44 46 48 50 "
     ]
    }
   ],
   "source": [
    "for x in range(2,51):\n",
    "    if x % 2 ==0:\n",
    "        print(x, end=\" \")\n"
   ]
  },
  {
   "cell_type": "code",
   "execution_count": 58,
   "id": "91a7a06b",
   "metadata": {},
   "outputs": [
    {
     "name": "stdout",
     "output_type": "stream",
     "text": [
      "364\n"
     ]
    }
   ],
   "source": [
    "myList=[11,22,23,99,81,93,35]\n",
    "sum = 0\n",
    "for x in myList:\n",
    "    sum = sum + x\n",
    "print(sum)"
   ]
  },
  {
   "cell_type": "code",
   "execution_count": 59,
   "id": "1801ac58",
   "metadata": {},
   "outputs": [
    {
     "name": "stdout",
     "output_type": "stream",
     "text": [
      "1683\n"
     ]
    }
   ],
   "source": [
    "sum = 0\n",
    "for x in range(1,101):\n",
    "    if x % 3 ==0:\n",
    "        sum = sum + x\n",
    "print(sum)"
   ]
  },
  {
   "cell_type": "code",
   "execution_count": 65,
   "id": "d0bb70de",
   "metadata": {},
   "outputs": [
    {
     "name": "stdout",
     "output_type": "stream",
     "text": [
      "1\n",
      "3\n",
      "5\n",
      "15\n"
     ]
    }
   ],
   "source": [
    "x = int(input(\"정수를 입력하세요: \"))\n",
    "\n",
    "for k in range(1, x+1):\n",
    "    if x % k == 0:\n",
    "        print(k)"
   ]
  },
  {
   "cell_type": "code",
   "execution_count": 75,
   "id": "d2bde1bb",
   "metadata": {},
   "outputs": [
    {
     "name": "stdout",
     "output_type": "stream",
     "text": [
      "\n",
      "*\n",
      "**\n",
      "***\n",
      "****\n",
      "*****\n"
     ]
    }
   ],
   "source": [
    "x = int(input(\"정수를 입력하세요: \"))\n",
    "t = 0\n",
    "for k in range(x+1):\n",
    "    t = t+1\n",
    "    for s in range(1, t):\n",
    "        print(\"*\", end=\"\")\n",
    "    print()"
   ]
  },
  {
   "cell_type": "code",
   "execution_count": 2,
   "id": "f4a640d3",
   "metadata": {},
   "outputs": [
    {
     "name": "stdout",
     "output_type": "stream",
     "text": [
      "23\n"
     ]
    }
   ],
   "source": [
    "n = 1\n",
    "while n**2<= 500:\n",
    "    n = n+1\n",
    "\n",
    "print(n)"
   ]
  },
  {
   "cell_type": "code",
   "execution_count": 6,
   "id": "185b4f40",
   "metadata": {},
   "outputs": [
    {
     "name": "stdout",
     "output_type": "stream",
     "text": [
      "30\n"
     ]
    }
   ],
   "source": [
    "n = int(input(\"정수를 입력하세요: \"))\n",
    "sum = 0\n",
    "for x in range(1, n+1):\n",
    "    sum = sum + x**2\n",
    "\n",
    "print(sum)"
   ]
  },
  {
   "cell_type": "code",
   "execution_count": 14,
   "id": "4996544e",
   "metadata": {},
   "outputs": [
    {
     "name": "stdout",
     "output_type": "stream",
     "text": [
      "10 와 20 의 최대 공약수는 10 입니다.\n"
     ]
    }
   ],
   "source": [
    "a = int(input(\"첫 번째 정수를 입력하시오: \"))\n",
    "b = int(input(\"두 번째 정수를 입력하시오: \"))\n",
    "common = 0\n",
    "max = 0\n",
    "if a< b:\n",
    "    max = b\n",
    "\n",
    "for i in range(1, max):\n",
    "    if a % i == 0 and b % i == 0:\n",
    "        common = i\n",
    "print(a, \"와\", b, \"의 최대 공약수는\", common, \"입니다.\")"
   ]
  },
  {
   "cell_type": "code",
   "execution_count": 18,
   "id": "0de6928b",
   "metadata": {},
   "outputs": [
    {
     "name": "stdout",
     "output_type": "stream",
     "text": [
      "0,1,1,2,3,5,8,13,21,34,55,"
     ]
    }
   ],
   "source": [
    "\n",
    "n = int(input(\"정수를 입력하세요: \"))\n",
    "element1 = 0\n",
    "element2 = 0\n",
    "\n",
    "for i in range(n+1):\n",
    "    if i < 2:\n",
    "        element2-element1\n",
    "        element1 = i\n",
    "        sum = element1 + element2\n",
    "    else:\n",
    "        sum = element1 + element2\n",
    "        element2 = element1\n",
    "        element1 = sum\n",
    "\n",
    "    #if i != n:\n",
    "    print(sum, end=\",\")\n",
    "    #else:\n",
    "        #print(sum)\n",
    "\n"
   ]
  },
  {
   "cell_type": "code",
   "execution_count": 15,
   "id": "e6b46638",
   "metadata": {},
   "outputs": [
    {
     "name": "stdout",
     "output_type": "stream",
     "text": [
      "2 3 5 7 11 13 17 19 "
     ]
    }
   ],
   "source": [
    "maxnum = 20\n",
    "number = 2\n",
    "count = 0\n",
    "\n",
    "while number < maxnum:\n",
    "    divisor = 2\n",
    "    prime = True\n",
    "\n",
    "    while divisor < number:\n",
    "        if number % divisor ==0:\n",
    "            prime = False\n",
    "            break\n",
    "        divisor += 1\n",
    "\n",
    "    if prime:\n",
    "        count += 1\n",
    "        print(number, end=\" \")\n",
    "    number +=1 "
   ]
  },
  {
   "cell_type": "code",
   "execution_count": 13,
   "id": "b1353c49",
   "metadata": {},
   "outputs": [
    {
     "name": "stdout",
     "output_type": "stream",
     "text": [
      "4869.189596434787\n"
     ]
    }
   ],
   "source": [
    "sum = 0\n",
    "for x in range(1, 100, 2):\n",
    "    for y in range(3, 102, 2):\n",
    "        sum = sum + (x/y)\n",
    "print(sum)"
   ]
  },
  {
   "cell_type": "code",
   "execution_count": null,
   "id": "7c0007fb",
   "metadata": {},
   "outputs": [],
   "source": [
    "for i in range(0, 20):\n",
    "    if i %3 == 0 and i % 5 ==0:\n",
    "        print(\"fizzbuzz\")\n",
    "    elif i%5==0:\n",
    "        print(\"buzz\")\n",
    "    elif i%3==0:\n",
    "        print(\"fizz\")\n",
    "    else:\n",
    "        print(\"*\")\n"
   ]
  },
  {
   "cell_type": "code",
   "execution_count": 19,
   "id": "6724fca0",
   "metadata": {},
   "outputs": [
    {
     "name": "stdout",
     "output_type": "stream",
     "text": [
      "Collecting pyautoguiNote: you may need to restart the kernel to use updated packages.\n"
     ]
    },
    {
     "name": "stderr",
     "output_type": "stream",
     "text": [
      "WARNING: You are using pip version 22.0.4; however, version 25.1.1 is available.\n",
      "You should consider upgrading via the 'c:\\Users\\SAMSUNG\\workspace\\.venv\\Scripts\\python.exe -m pip install --upgrade pip' command.\n"
     ]
    },
    {
     "name": "stdout",
     "output_type": "stream",
     "text": [
      "\n",
      "  Downloading PyAutoGUI-0.9.54.tar.gz (61 kB)\n",
      "     ---------------------------------------- 61.2/61.2 KB 3.2 MB/s eta 0:00:00\n",
      "  Installing build dependencies: started\n",
      "  Installing build dependencies: finished with status 'done'\n",
      "  Getting requirements to build wheel: started\n",
      "  Getting requirements to build wheel: finished with status 'done'\n",
      "  Preparing metadata (pyproject.toml): started\n",
      "  Preparing metadata (pyproject.toml): finished with status 'done'\n",
      "Collecting pygetwindow>=0.0.5\n",
      "  Downloading PyGetWindow-0.0.9.tar.gz (9.7 kB)\n",
      "  Preparing metadata (setup.py): started\n",
      "  Preparing metadata (setup.py): finished with status 'done'\n",
      "Collecting pyscreeze>=0.1.21\n",
      "  Downloading pyscreeze-1.0.1.tar.gz (27 kB)\n",
      "  Installing build dependencies: started\n",
      "  Installing build dependencies: finished with status 'done'\n",
      "  Getting requirements to build wheel: started\n",
      "  Getting requirements to build wheel: finished with status 'done'\n",
      "  Preparing metadata (pyproject.toml): started\n",
      "  Preparing metadata (pyproject.toml): finished with status 'done'\n",
      "Collecting mouseinfo\n",
      "  Downloading MouseInfo-0.1.3.tar.gz (10 kB)\n",
      "  Preparing metadata (setup.py): started\n",
      "  Preparing metadata (setup.py): finished with status 'done'\n",
      "Collecting pytweening>=1.0.4\n",
      "  Downloading pytweening-1.2.0.tar.gz (171 kB)\n",
      "     -------------------------------------- 171.2/171.2 KB 5.0 MB/s eta 0:00:00\n",
      "  Preparing metadata (setup.py): started\n",
      "  Preparing metadata (setup.py): finished with status 'done'\n",
      "Collecting pymsgbox\n",
      "  Downloading PyMsgBox-1.0.9.tar.gz (18 kB)\n",
      "  Installing build dependencies: started\n",
      "  Installing build dependencies: finished with status 'done'\n",
      "  Getting requirements to build wheel: started\n",
      "  Getting requirements to build wheel: finished with status 'done'\n",
      "  Preparing metadata (pyproject.toml): started\n",
      "  Preparing metadata (pyproject.toml): finished with status 'done'\n",
      "Collecting pyrect\n",
      "  Downloading PyRect-0.2.0.tar.gz (17 kB)\n",
      "  Preparing metadata (setup.py): started\n",
      "  Preparing metadata (setup.py): finished with status 'done'\n",
      "Collecting Pillow>=9.2.0\n",
      "  Downloading pillow-11.3.0-cp39-cp39-win_amd64.whl (7.0 MB)\n",
      "     ---------------------------------------- 7.0/7.0 MB 4.6 MB/s eta 0:00:00\n",
      "Collecting pyperclip\n",
      "  Downloading pyperclip-1.9.0.tar.gz (20 kB)\n",
      "  Preparing metadata (setup.py): started\n",
      "  Preparing metadata (setup.py): finished with status 'done'\n",
      "Using legacy 'setup.py install' for pygetwindow, since package 'wheel' is not installed.\n",
      "Using legacy 'setup.py install' for pytweening, since package 'wheel' is not installed.\n",
      "Using legacy 'setup.py install' for mouseinfo, since package 'wheel' is not installed.\n",
      "Using legacy 'setup.py install' for pyperclip, since package 'wheel' is not installed.\n",
      "Using legacy 'setup.py install' for pyrect, since package 'wheel' is not installed.\n",
      "Building wheels for collected packages: pyautogui, pyscreeze, pymsgbox\n",
      "  Building wheel for pyautogui (pyproject.toml): started\n",
      "  Building wheel for pyautogui (pyproject.toml): finished with status 'done'\n",
      "  Created wheel for pyautogui: filename=pyautogui-0.9.54-py3-none-any.whl size=37707 sha256=29eed3c90ddf2508baed1155d9adb81090ccff9d3b63d379a45defc43e30dce4\n",
      "  Stored in directory: c:\\users\\samsung\\appdata\\local\\pip\\cache\\wheels\\29\\2b\\5f\\9df8525a15d14d1a3ba04fe66e5bd3d2dc8ca7f5fb2ab2ec50\n",
      "  Building wheel for pyscreeze (pyproject.toml): started\n",
      "  Building wheel for pyscreeze (pyproject.toml): finished with status 'done'\n",
      "  Created wheel for pyscreeze: filename=pyscreeze-1.0.1-py3-none-any.whl size=14481 sha256=22ed291f94829ed8cda2b8e0ddc858230dc33425c09483178bb17cf34a8dd688\n",
      "  Stored in directory: c:\\users\\samsung\\appdata\\local\\pip\\cache\\wheels\\92\\09\\56\\5a64e9b45343f92b9a988689abb2c2fb1e008831294d24a148\n",
      "  Building wheel for pymsgbox (pyproject.toml): started\n",
      "  Building wheel for pymsgbox (pyproject.toml): finished with status 'done'\n",
      "  Created wheel for pymsgbox: filename=pymsgbox-1.0.9-py3-none-any.whl size=7467 sha256=21729805b1b12626a23c2783c81381f515db4255830762638371b9d15cd2458f\n",
      "  Stored in directory: c:\\users\\samsung\\appdata\\local\\pip\\cache\\wheels\\7f\\13\\8c\\584c519464297d9637f9cd29fd1dcdf55e2a2cab225c76a2db\n",
      "Successfully built pyautogui pyscreeze pymsgbox\n",
      "Installing collected packages: pytweening, pyrect, pyperclip, pymsgbox, pygetwindow, Pillow, mouseinfo, pyscreeze, pyautogui\n",
      "  Running setup.py install for pytweening: started\n",
      "  Running setup.py install for pytweening: finished with status 'done'\n",
      "  Running setup.py install for pyrect: started\n",
      "  Running setup.py install for pyrect: finished with status 'done'\n",
      "  Running setup.py install for pyperclip: started\n",
      "  Running setup.py install for pyperclip: finished with status 'done'\n",
      "  Running setup.py install for pygetwindow: started\n",
      "  Running setup.py install for pygetwindow: finished with status 'done'\n",
      "  Running setup.py install for mouseinfo: started\n",
      "  Running setup.py install for mouseinfo: finished with status 'done'\n",
      "Successfully installed Pillow-11.3.0 mouseinfo-0.1.3 pyautogui-0.9.54 pygetwindow-0.0.9 pymsgbox-1.0.9 pyperclip-1.9.0 pyrect-0.2.0 pyscreeze-1.0.1 pytweening-1.2.0\n"
     ]
    }
   ],
   "source": [
    "pip install pyautogui"
   ]
  },
  {
   "cell_type": "code",
   "execution_count": 20,
   "id": "29608b24",
   "metadata": {},
   "outputs": [
    {
     "name": "stdout",
     "output_type": "stream",
     "text": [
      "Point(x=1415, y=373)\n"
     ]
    }
   ],
   "source": [
    "import pyautogui as pag\n",
    "import time\n",
    "\n",
    "time.sleep(2)\n",
    "print(pag.position())"
   ]
  },
  {
   "cell_type": "code",
   "execution_count": null,
   "id": "604110d9",
   "metadata": {},
   "outputs": [
    {
     "ename": "FailSafeException",
     "evalue": "PyAutoGUI fail-safe triggered from mouse moving to a corner of the screen. To disable this fail-safe, set pyautogui.FAILSAFE to False. DISABLING FAIL-SAFE IS NOT RECOMMENDED.",
     "output_type": "error",
     "traceback": [
      "\u001b[1;31m---------------------------------------------------------------------------\u001b[0m",
      "\u001b[1;31mFailSafeException\u001b[0m                         Traceback (most recent call last)",
      "Cell \u001b[1;32mIn[21], line 1\u001b[0m\n\u001b[1;32m----> 1\u001b[0m \u001b[43mpag\u001b[49m\u001b[38;5;241;43m.\u001b[39;49m\u001b[43mmoveTo\u001b[49m\u001b[43m(\u001b[49m\u001b[38;5;241;43m5484\u001b[39;49m\u001b[43m,\u001b[49m\u001b[43m \u001b[49m\u001b[38;5;241;43m1283\u001b[39;49m\u001b[43m,\u001b[49m\u001b[43m \u001b[49m\u001b[43mduration\u001b[49m\u001b[38;5;241;43m=\u001b[39;49m\u001b[38;5;241;43m2\u001b[39;49m\u001b[43m)\u001b[49m\n",
      "File \u001b[1;32mc:\\Users\\SAMSUNG\\workspace\\.venv\\lib\\site-packages\\pyautogui\\__init__.py:594\u001b[0m, in \u001b[0;36m_genericPyAutoGUIChecks.<locals>.wrapper\u001b[1;34m(*args, **kwargs)\u001b[0m\n\u001b[0;32m    591\u001b[0m \u001b[38;5;129m@functools\u001b[39m\u001b[38;5;241m.\u001b[39mwraps(wrappedFunction)\n\u001b[0;32m    592\u001b[0m \u001b[38;5;28;01mdef\u001b[39;00m\u001b[38;5;250m \u001b[39m\u001b[38;5;21mwrapper\u001b[39m(\u001b[38;5;241m*\u001b[39margs, \u001b[38;5;241m*\u001b[39m\u001b[38;5;241m*\u001b[39mkwargs):\n\u001b[0;32m    593\u001b[0m     failSafeCheck()\n\u001b[1;32m--> 594\u001b[0m     returnVal \u001b[38;5;241m=\u001b[39m wrappedFunction(\u001b[38;5;241m*\u001b[39margs, \u001b[38;5;241m*\u001b[39m\u001b[38;5;241m*\u001b[39mkwargs)\n\u001b[0;32m    595\u001b[0m     _handlePause(kwargs\u001b[38;5;241m.\u001b[39mget(\u001b[38;5;124m\"\u001b[39m\u001b[38;5;124m_pause\u001b[39m\u001b[38;5;124m\"\u001b[39m, \u001b[38;5;28;01mTrue\u001b[39;00m))\n\u001b[0;32m    596\u001b[0m     \u001b[38;5;28;01mreturn\u001b[39;00m returnVal\n",
      "File \u001b[1;32mc:\\Users\\SAMSUNG\\workspace\\.venv\\lib\\site-packages\\pyautogui\\__init__.py:1288\u001b[0m, in \u001b[0;36mmoveTo\u001b[1;34m(x, y, duration, tween, logScreenshot, _pause)\u001b[0m\n\u001b[0;32m   1285\u001b[0m x, y \u001b[38;5;241m=\u001b[39m _normalizeXYArgs(x, y)\n\u001b[0;32m   1287\u001b[0m _logScreenshot(logScreenshot, \u001b[38;5;124m\"\u001b[39m\u001b[38;5;124mmoveTo\u001b[39m\u001b[38;5;124m\"\u001b[39m, \u001b[38;5;124m\"\u001b[39m\u001b[38;5;132;01m%s\u001b[39;00m\u001b[38;5;124m,\u001b[39m\u001b[38;5;132;01m%s\u001b[39;00m\u001b[38;5;124m\"\u001b[39m \u001b[38;5;241m%\u001b[39m (x, y), folder\u001b[38;5;241m=\u001b[39m\u001b[38;5;124m\"\u001b[39m\u001b[38;5;124m.\u001b[39m\u001b[38;5;124m\"\u001b[39m)\n\u001b[1;32m-> 1288\u001b[0m \u001b[43m_mouseMoveDrag\u001b[49m\u001b[43m(\u001b[49m\u001b[38;5;124;43m\"\u001b[39;49m\u001b[38;5;124;43mmove\u001b[39;49m\u001b[38;5;124;43m\"\u001b[39;49m\u001b[43m,\u001b[49m\u001b[43m \u001b[49m\u001b[43mx\u001b[49m\u001b[43m,\u001b[49m\u001b[43m \u001b[49m\u001b[43my\u001b[49m\u001b[43m,\u001b[49m\u001b[43m \u001b[49m\u001b[38;5;241;43m0\u001b[39;49m\u001b[43m,\u001b[49m\u001b[43m \u001b[49m\u001b[38;5;241;43m0\u001b[39;49m\u001b[43m,\u001b[49m\u001b[43m \u001b[49m\u001b[43mduration\u001b[49m\u001b[43m,\u001b[49m\u001b[43m \u001b[49m\u001b[43mtween\u001b[49m\u001b[43m)\u001b[49m\n",
      "File \u001b[1;32mc:\\Users\\SAMSUNG\\workspace\\.venv\\lib\\site-packages\\pyautogui\\__init__.py:1504\u001b[0m, in \u001b[0;36m_mouseMoveDrag\u001b[1;34m(moveOrDrag, x, y, xOffset, yOffset, duration, tween, button)\u001b[0m\n\u001b[0;32m   1500\u001b[0m \u001b[38;5;66;03m# Do a fail-safe check to see if the user moved the mouse to a fail-safe position, but not if the mouse cursor\u001b[39;00m\n\u001b[0;32m   1501\u001b[0m \u001b[38;5;66;03m# moved there as a result of this function. (Just because tweenX and tweenY aren't in a fail-safe position\u001b[39;00m\n\u001b[0;32m   1502\u001b[0m \u001b[38;5;66;03m# doesn't mean the user couldn't have moved the mouse cursor to a fail-safe position.)\u001b[39;00m\n\u001b[0;32m   1503\u001b[0m \u001b[38;5;28;01mif\u001b[39;00m (tweenX, tweenY) \u001b[38;5;129;01mnot\u001b[39;00m \u001b[38;5;129;01min\u001b[39;00m FAILSAFE_POINTS:\n\u001b[1;32m-> 1504\u001b[0m     \u001b[43mfailSafeCheck\u001b[49m\u001b[43m(\u001b[49m\u001b[43m)\u001b[49m\n\u001b[0;32m   1506\u001b[0m \u001b[38;5;28;01mif\u001b[39;00m moveOrDrag \u001b[38;5;241m==\u001b[39m \u001b[38;5;124m\"\u001b[39m\u001b[38;5;124mmove\u001b[39m\u001b[38;5;124m\"\u001b[39m:\n\u001b[0;32m   1507\u001b[0m     platformModule\u001b[38;5;241m.\u001b[39m_moveTo(tweenX, tweenY)\n",
      "File \u001b[1;32mc:\\Users\\SAMSUNG\\workspace\\.venv\\lib\\site-packages\\pyautogui\\__init__.py:1734\u001b[0m, in \u001b[0;36mfailSafeCheck\u001b[1;34m()\u001b[0m\n\u001b[0;32m   1732\u001b[0m \u001b[38;5;28;01mdef\u001b[39;00m\u001b[38;5;250m \u001b[39m\u001b[38;5;21mfailSafeCheck\u001b[39m():\n\u001b[0;32m   1733\u001b[0m     \u001b[38;5;28;01mif\u001b[39;00m FAILSAFE \u001b[38;5;129;01mand\u001b[39;00m \u001b[38;5;28mtuple\u001b[39m(position()) \u001b[38;5;129;01min\u001b[39;00m FAILSAFE_POINTS:\n\u001b[1;32m-> 1734\u001b[0m         \u001b[38;5;28;01mraise\u001b[39;00m FailSafeException(\n\u001b[0;32m   1735\u001b[0m             \u001b[38;5;124m\"\u001b[39m\u001b[38;5;124mPyAutoGUI fail-safe triggered from mouse moving to a corner of the screen. To disable this fail-safe, set pyautogui.FAILSAFE to False. DISABLING FAIL-SAFE IS NOT RECOMMENDED.\u001b[39m\u001b[38;5;124m\"\u001b[39m\n\u001b[0;32m   1736\u001b[0m         )\n",
      "\u001b[1;31mFailSafeException\u001b[0m: PyAutoGUI fail-safe triggered from mouse moving to a corner of the screen. To disable this fail-safe, set pyautogui.FAILSAFE to False. DISABLING FAIL-SAFE IS NOT RECOMMENDED."
     ]
    }
   ],
   "source": [
    "pag.moveTo(5484, 1283, duration=2)\n",
    "pag.click()\n"
   ]
  },
  {
   "cell_type": "code",
   "execution_count": 23,
   "id": "52d1ff80",
   "metadata": {},
   "outputs": [
    {
     "name": "stdout",
     "output_type": "stream",
     "text": [
      "5050\n",
      "20100\n"
     ]
    }
   ],
   "source": [
    "def get_sum(start, end):\n",
    "    sum = 0\n",
    "    for i in range(start, end+1):\n",
    "        sum += i\n",
    "    return sum\n",
    "\n",
    "print(get_sum(1, 100))\n",
    "print(get_sum(1, 200))"
   ]
  },
  {
   "cell_type": "code",
   "execution_count": 25,
   "id": "b3c41abb",
   "metadata": {},
   "outputs": [
    {
     "name": "stdout",
     "output_type": "stream",
     "text": [
      "31.400000000000002\n"
     ]
    }
   ],
   "source": [
    "def get_perl(radius):\n",
    "    x = 2*3.14*radius\n",
    "    return x\n",
    "\n",
    "print(get_perl(5))\n"
   ]
  },
  {
   "cell_type": "code",
   "execution_count": 27,
   "id": "bf005bda",
   "metadata": {},
   "outputs": [
    {
     "name": "stdout",
     "output_type": "stream",
     "text": [
      "15\n",
      "5\n",
      "50\n",
      "2.0\n"
     ]
    }
   ],
   "source": [
    "def sum(a, b):\n",
    "    x = a+b\n",
    "    return x\n",
    "def ma(a, b):\n",
    "    x = a-b\n",
    "    return x\n",
    "def mul(a, b):\n",
    "    x = a*b\n",
    "    return x\n",
    "def mal(a, b):\n",
    "    x = a/b\n",
    "    return x\n",
    "\n",
    "a = int(input(\"첫 번째 정수: \"))\n",
    "b = int(input(\"두 번째 정수: \"))\n",
    "\n",
    "print(sum(a, b))\n",
    "print(ma(a,b))\n",
    "print(mul(a,b))\n",
    "print(mal(a,b))\n",
    "\n",
    "\n"
   ]
  },
  {
   "cell_type": "code",
   "execution_count": 28,
   "id": "4ecd3045",
   "metadata": {},
   "outputs": [
    {
     "name": "stdout",
     "output_type": "stream",
     "text": [
      "(15, 5, 50, 2.0)\n"
     ]
    }
   ],
   "source": [
    "def cal(a, b):\n",
    "    x = a+ b\n",
    "    y = a-b\n",
    "    z = a*b\n",
    "    k = a/b\n",
    "    return x, y, z, k\n",
    "\n",
    "a = int(input(\"첫 번째 정수: \"))\n",
    "b = int(input(\"두 번째 정수: \"))\n",
    "\n",
    "print(cal(a, b))"
   ]
  },
  {
   "cell_type": "code",
   "execution_count": 29,
   "id": "6e627049",
   "metadata": {},
   "outputs": [
    {
     "name": "stdout",
     "output_type": "stream",
     "text": [
      "A\n"
     ]
    }
   ],
   "source": [
    "def get_grade(score):\n",
    "    if score >= 90:\n",
    "        x = \"A\"\n",
    "    elif score >= 80:\n",
    "        x = \"B\"\n",
    "    elif score >= 70:\n",
    "        x = \"C\"\n",
    "    elif score >= 60:\n",
    "        x = \"D\"\n",
    "    else:\n",
    "        x = \"F\"\n",
    "    return x\n",
    "\n",
    "a = int(input(\"점수를 입력하세요: \"))\n",
    "print(get_grade(a))"
   ]
  },
  {
   "cell_type": "code",
   "execution_count": null,
   "id": "9cd06daf",
   "metadata": {},
   "outputs": [],
   "source": [
    "def check(p):\n",
    "    length = False\n",
    "    upper = False\n",
    "    lower = False\n",
    "    digit = False\n",
    "\n",
    "\n",
    "\n",
    "\n",
    "\n",
    "    for i in p:\n",
    "        if i.isupper():\n",
    "            upper = True\n",
    "        elif i.islower():\n",
    "            lower = True\n",
    "        elif i.isdigit():\n",
    "            digit = True\n",
    "\n",
    "    passList = list(p)\n",
    "    cnlow = 0\n",
    "    cnup = 0\n",
    "    cndig = 0\n",
    "\n",
    "    if len(passList) >=8:\n",
    "        \n",
    "\n",
    "\n",
    "\n",
    "\n",
    "\n",
    "\n",
    "\n",
    "\n",
    "\n",
    "\n",
    "\n",
    "\n"
   ]
  },
  {
   "cell_type": "code",
   "execution_count": 33,
   "id": "2deaad66",
   "metadata": {},
   "outputs": [
    {
     "name": "stdout",
     "output_type": "stream",
     "text": [
      "['철수', '영희', '맹구', '훈이']\n",
      "[1, 2, 3, 4, 5, 6, 7, 8, 9, 10]\n",
      "1\n",
      "[1, 2, 3, 4, 5]\n",
      "[1, 2, 3, 4, 5, 6, 7, 8, 9, 10]\n"
     ]
    }
   ],
   "source": [
    "list = [\"철수\", \"영희\", \"맹구\", \"훈이\"]\n",
    "\n",
    "scores = [1, 2,3 ,4, 5,6,7,8,9,10]\n",
    "print(list)\n",
    "print(scores)\n",
    "print(scores[0])\n",
    "print(scores[0:5])\n",
    "print(scores[0:10])"
   ]
  },
  {
   "cell_type": "code",
   "execution_count": 34,
   "id": "21b8d33b",
   "metadata": {},
   "outputs": [
    {
     "name": "stdout",
     "output_type": "stream",
     "text": [
      "e\n"
     ]
    }
   ],
   "source": [
    "list = \"hello\"\n",
    "print(list[1])"
   ]
  },
  {
   "cell_type": "code",
   "execution_count": 36,
   "id": "c0e7716a",
   "metadata": {},
   "outputs": [
    {
     "name": "stdout",
     "output_type": "stream",
     "text": [
      "[10, 20, 99, 40, 50]\n",
      "[10, 20, 99, 40, 50]\n"
     ]
    }
   ],
   "source": [
    "scores = [10, 20, 30, 40, 50]\n",
    "values = scores\n",
    "values[2] = 99\n",
    "print(scores)\n",
    "print(values)"
   ]
  },
  {
   "cell_type": "code",
   "execution_count": 138,
   "id": "d081d212",
   "metadata": {},
   "outputs": [
    {
     "name": "stdout",
     "output_type": "stream",
     "text": [
      "banana\n",
      "orange\n"
     ]
    },
    {
     "data": {
      "text/plain": [
       "'Thu Jul 10 16:05:08 2025'"
      ]
     },
     "execution_count": 138,
     "metadata": {},
     "output_type": "execute_result"
    }
   ],
   "source": [
    "import random\n",
    "import time\n",
    "\n",
    "list = [\"hello\", \"apple\", \"banana\", \"orange\", \"grape\", \"kiwi\"]\n",
    "\n",
    "def ran():\n",
    "    a = random.randint(0, 5)\n",
    "    return a\n",
    "\n",
    "\n",
    "print(list[ran()])\n",
    "\n",
    "print(random.choice(list))\n",
    "\n",
    "\n",
    "time.time()\n",
    "time.localtime(time.time())\n",
    "time.asctime()\n"
   ]
  },
  {
   "cell_type": "code",
   "execution_count": null,
   "id": "b2d16b53",
   "metadata": {},
   "outputs": [
    {
     "name": "stdout",
     "output_type": "stream",
     "text": [
      "grape\n",
      "kiwi\n",
      "0.0009989738464355469\n"
     ]
    }
   ],
   "source": [
    "import random\n",
    "import time\n",
    "\n",
    "x = time.time()\n",
    "\n",
    "list = [\"hello\", \"apple\", \"banana\", \"orange\", \"grape\", \"kiwi\"]\n",
    "\n",
    "def ran():\n",
    "    a = random.randint(0, 5)\n",
    "    return a\n",
    "num = 0\n",
    "count = 0\n",
    "s = input(\"\\n입력: \")\n",
    "for i in range(min(len(list[ran()]), len(s))):\n",
    "    if list([ran()]) == s:\n",
    "        num = num + 10\n",
    "        count = count + 1\n",
    "    else:\n",
    "        num = num -10\n",
    "\n",
    "print(list[ran()])\n",
    "\n",
    "print(random.choice(list))\n",
    "\n",
    "y = time.time()\n",
    "q = y - x\n",
    "print(q)\n"
   ]
  },
  {
   "cell_type": "code",
   "execution_count": 10,
   "id": "6a2904f8",
   "metadata": {},
   "outputs": [
    {
     "name": "stdout",
     "output_type": "stream",
     "text": [
      "grape\n",
      "다시 시도하세요.\n",
      "다시 시도하세요.\n",
      "다시 시도하세요.\n",
      "완료했어요\n",
      "5\n",
      "100.0\n",
      "11.68354845046997\n",
      "25.67713064843177\n"
     ]
    }
   ],
   "source": [
    "import random\n",
    "import time\n",
    "\n",
    "\n",
    "\n",
    "list = [\"hello\", \"apple\", \"banana\", \"orange\", \"grape\", \"kiwi\"]\n",
    "\n",
    "def ran():\n",
    "    a = random.randint(0, 5)\n",
    "    return a\n",
    "k = list[ran()]\n",
    "print(k)\n",
    "trial = 0\n",
    "\n",
    "x = time.time()\n",
    "while True:\n",
    "    \n",
    "    \n",
    "    s = input(\"\\n입력: \")\n",
    "    y = time.time()\n",
    "    elapsed = y - x\n",
    "    count = 0\n",
    "\n",
    "    for i in range(min(len(k), len(s))):\n",
    "        if k[i] == s[i]:\n",
    "            count = count + 1\n",
    "\n",
    "    total = max(len(k), len(s))\n",
    "    accuracy = count / total * 100\n",
    "    speed = len(s) / elapsed * 60 \n",
    "\n",
    "    \n",
    "    if accuracy == 100:\n",
    "        print(\"완료했어요\")\n",
    "        break\n",
    "    else:\n",
    "        print(\"다시 시도하세요.\")\n",
    "        trial += 1\n",
    "        \n",
    "\n",
    "\n",
    "    \n",
    "print(count)\n",
    "print(accuracy)\n",
    "print(elapsed)\n",
    "print(speed)"
   ]
  },
  {
   "cell_type": "code",
   "execution_count": 1,
   "id": "5e82e9ed",
   "metadata": {},
   "outputs": [
    {
     "name": "stdout",
     "output_type": "stream",
     "text": [
      "빈 수레가 요란하다\n",
      "속담: \"빈 수레가 ____\"\n",
      "다시 시도하세요.\n",
      "다시 시도하세요.\n",
      "다시 시도하세요.\n",
      "정답입니다\n",
      "4\n"
     ]
    }
   ],
   "source": [
    "import random\n",
    "\n",
    "proverbs = [[\"가는 말이 고와야\", \"오는 말이 곱다\"],\n",
    "        [\"낮말은 새가 듣고\", \"밤말은 쥐가 듣는다\"],\n",
    "        [\"말 한마디에\", \"천 냥 빚도 갚는다\"],\n",
    "        [\"빈 수레가\", \"요란하다\"],\n",
    "        [\"말보다 행동이\", \"앞서야 한다.\"], \n",
    "        [\"되로 주고\", \"말로 받는다\"], \n",
    "        [\"윗물이 맑아야\", \"아랫물이 맑다\"],\n",
    "        [\"가는 날이\", \"장날이다\"], \n",
    "        [\"입은 삐뚤어져도\", \"말은 바로 하라\"]]\n",
    "\n",
    "\n",
    "front, back = random.choice(proverbs)\n",
    "print(front, back)\n",
    "\n",
    "print(f\"속담: \\\"{front} ____\\\"\")\n",
    "trial = 0\n",
    "while True:\n",
    "    s = input(\"속담 뒷부분을 입력하세요: \").strip()\n",
    "    correct = 0\n",
    "    for i in range(min(len(back), len(s))):\n",
    "        if back[i] == s[i]:\n",
    "            correct = correct+1\n",
    "\n",
    "    total = max(len(back), len(s))\n",
    "    accuracy = correct / total * 100\n",
    "    \n",
    "\n",
    "    \n",
    "    if accuracy == 100:\n",
    "        print(\"정답입니다\")\n",
    "        break\n",
    "    else:\n",
    "        print(\"다시 시도하세요.\")\n",
    "        trial += 1\n",
    "\n",
    "\n",
    "\n",
    "\n",
    "print(correct)\n",
    "\n",
    "\n"
   ]
  },
  {
   "cell_type": "code",
   "execution_count": null,
   "id": "1b21800f",
   "metadata": {},
   "outputs": [
    {
     "name": "stdout",
     "output_type": "stream",
     "text": [
      "입은 삐뚤어져도 말은 바로 하라\n",
      "속담: \"가는 날이 ____\"\n",
      "오답입니다. 정답은:\"장날이다\"\n",
      "\n",
      "남은 횟수는 4 번 남았습니다.\n",
      "속담: \"가는 말이 고와야 ____\"\n",
      "오답입니다. 정답은:\"오는 말이 곱다\"\n",
      "\n",
      "남은 횟수는 3 번 남았습니다.\n",
      "속담: \"되로 주고 ____\"\n",
      "오답입니다. 정답은:\"말로 받는다\"\n",
      "\n",
      "남은 횟수는 2 번 남았습니다.\n",
      "속담: \"가는 날이 ____\"\n",
      "정답입니다.\n",
      "\n"
     ]
    }
   ],
   "source": [
    "import random\n",
    "\n",
    "proverbs = [[\"가는 말이 고와야\", \"오는 말이 곱다\"],\n",
    "        [\"낮말은 새가 듣고\", \"밤말은 쥐가 듣는다\"],\n",
    "        [\"말 한마디에\", \"천 냥 빚도 갚는다\"],\n",
    "        [\"빈 수레가\", \"요란하다\"],\n",
    "        [\"말보다 행동이\", \"앞서야 한다.\"], \n",
    "        [\"되로 주고\", \"말로 받는다\"], \n",
    "        [\"윗물이 맑아야\", \"아랫물이 맑다\"],\n",
    "        [\"가는 날이\", \"장날이다\"], \n",
    "        [\"입은 삐뚤어져도\", \"말은 바로 하라\"]]\n",
    "\n",
    "\n",
    "\n",
    "k = 5\n",
    "\n",
    "for i in range(1, 6):\n",
    "        front, back = random.choice(proverbs)\n",
    "        print(f\"속담: \\\"{front} ____\\\"\")\n",
    "        s = input(\"속담 뒷부분을 입력하세요: \").strip()\n",
    "        score = 0\n",
    "        if back == s:\n",
    "                print(\"정답입니다.\\n\")\n",
    "                score = score + 1\n",
    "                break\n",
    "        else:\n",
    "                print(f\"오답입니다. 정답은:\\\"{back}\\\"\\n\")\n",
    "                \n",
    "                print(\"남은 횟수는\", k-i, \"번 남았습니다.\")\n",
    "        if k - i == 0:\n",
    "                print(\"사용 횟수를 모두 사용하였습니다.\")\n",
    "\n",
    "\n",
    "        "
   ]
  },
  {
   "cell_type": "code",
   "execution_count": null,
   "id": "55fefb37",
   "metadata": {},
   "outputs": [
    {
     "name": "stdout",
     "output_type": "stream",
     "text": [
      "속담: \"윗물이 맑아야 ____\"\n",
      "오답입니다. 힌트:\"아\"\n",
      "\n",
      "속담: \"말보다 행동이 ____\"\n",
      "오답입니다. 힌트:\"앞\"\n",
      "\n",
      "속담: \"말 한마디에 ____\"\n",
      "오답입니다. 힌트:\"천\"\n",
      "\n",
      "정답입니다.\n",
      "\n",
      "속담: \"윗물이 맑아야 ____\"\n",
      "오답입니다. 힌트:\"아\"\n",
      "\n",
      "정답입니다.\n",
      "\n",
      "속담: \"가는 날이 ____\"\n",
      "오답입니다. 힌트:\"장\"\n",
      "\n",
      "총 점수는 2 입니다.\n"
     ]
    }
   ],
   "source": [
    "import random\n",
    "\n",
    "proverbs = [[\"가는 말이 고와야\", \"오는 말이 곱다\"],\n",
    "        [\"낮말은 새가 듣고\", \"밤말은 쥐가 듣는다\"],\n",
    "        [\"말 한마디에\", \"천 냥 빚도 갚는다\"],\n",
    "        [\"빈 수레가\", \"요란하다\"],\n",
    "        [\"말보다 행동이\", \"앞서야 한다.\"], \n",
    "        [\"되로 주고\", \"말로 받는다\"], \n",
    "        [\"윗물이 맑아야\", \"아랫물이 맑다\"],\n",
    "        [\"가는 날이\", \"장날이다\"], \n",
    "        [\"입은 삐뚤어져도\", \"말은 바로 하라\"]]\n",
    "\n",
    "\n",
    "score = 0\n",
    "for i in range(1, 6):\n",
    "        front, back = random.choice(proverbs)\n",
    "        print(f\"속담: \\\"{front} ____\\\"\")\n",
    "        s = input(\"속담 뒷부분을 입력하세요: \").strip()\n",
    "        \n",
    "        if back == s:\n",
    "                print(\"정답입니다.\\n\")\n",
    "                score = score + 1\n",
    "                \n",
    "        else:\n",
    "                print(f\"오답입니다. 힌트:\\\"{back[0]}\\\"\\n\")\n",
    "                s = input(\"한번 더 입력하세요: \").strip()\n",
    "                if back == s:\n",
    "                        print(\"정답입니다.\\n\")\n",
    "                        score = score + 1\n",
    "\n",
    "\n",
    "print(\"총 점수는\", score, \"입니다.\")"
   ]
  },
  {
   "cell_type": "code",
   "execution_count": 8,
   "id": "8d9878bc",
   "metadata": {},
   "outputs": [
    {
     "name": "stdout",
     "output_type": "stream",
     "text": [
      "속담: \"말보다 행동이 ____\"\n",
      "오답입니다. 힌트:\"앞\"\n",
      "\n",
      "속담: \"되로 주고 ____\"\n",
      "오답입니다. 힌트:\"말\"\n",
      "\n",
      "속담: \"가는 말이 고와야 ____\"\n",
      "오답입니다. 힌트:\"오\"\n",
      "\n",
      "정답입니다.\n",
      "\n",
      "속담: \"되로 주고 ____\"\n",
      "오답입니다. 힌트:\"말\"\n",
      "\n",
      "속담: \"말보다 행동이 ____\"\n",
      "오답입니다. 힌트:\"앞\"\n",
      "\n",
      "총 점수는 1 입니다.\n"
     ]
    }
   ],
   "source": [
    "import random\n",
    "\n",
    "proverbs = [[\"가는 말이 고와야\", \"오는 말이 곱다\"],\n",
    "        [\"낮말은 새가 듣고\", \"밤말은 쥐가 듣는다\"],\n",
    "        [\"말 한마디에\", \"천 냥 빚도 갚는다\"],\n",
    "        [\"빈 수레가\", \"요란하다\"],\n",
    "        [\"말보다 행동이\", \"앞서야 한다.\"], \n",
    "        [\"되로 주고\", \"말로 받는다\"], \n",
    "        [\"윗물이 맑아야\", \"아랫물이 맑다\"],\n",
    "        [\"가는 날이\", \"장날이다\"], \n",
    "        [\"입은 삐뚤어져도\", \"말은 바로 하라\"]]\n",
    "\n",
    "def check(a, b):\n",
    "    if a == b:\n",
    "        return True\n",
    "    return False\n",
    "\n",
    "\n",
    "\n",
    "\n",
    "score = 0\n",
    "for i in range(1, 6):\n",
    "        front, back = random.choice(proverbs)\n",
    "        print(f\"속담: \\\"{front} ____\\\"\")\n",
    "        s = input(\"속담 뒷부분을 입력하세요: \").strip()\n",
    "        if check(back,s):\n",
    "                print(\"정답입니다.\\n\")\n",
    "                score = score + 1\n",
    "                \n",
    "        else:\n",
    "                print(f\"오답입니다. 힌트:\\\"{back[0]}\\\"\\n\")\n",
    "                s = input(\"한번 더 입력하세요: \").strip()\n",
    "                if check(back,s):\n",
    "                        print(\"정답입니다.\\n\")\n",
    "                        score = score + 1\n",
    "\n",
    "\n",
    "print(\"총 점수는\", score, \"입니다.\")"
   ]
  },
  {
   "cell_type": "code",
   "execution_count": 9,
   "id": "f254fc28",
   "metadata": {},
   "outputs": [
    {
     "name": "stdout",
     "output_type": "stream",
     "text": [
      "Collecting qrcode\n",
      "  Downloading qrcode-8.2-py3-none-any.whl (45 kB)\n",
      "     -------------------------------------- 46.0/46.0 KB 760.6 kB/s eta 0:00:00\n",
      "Requirement already satisfied: pillow in c:\\users\\samsung\\workspace\\.venv\\lib\\site-packages (11.3.0)\n",
      "Requirement already satisfied: colorama in c:\\users\\samsung\\workspace\\.venv\\lib\\site-packages (from qrcode) (0.4.6)\n",
      "Installing collected packages: qrcode\n",
      "Successfully installed qrcode-8.2\n",
      "Note: you may need to restart the kernel to use updated packages.\n"
     ]
    },
    {
     "name": "stderr",
     "output_type": "stream",
     "text": [
      "WARNING: You are using pip version 22.0.4; however, version 25.1.1 is available.\n",
      "You should consider upgrading via the 'c:\\Users\\SAMSUNG\\workspace\\.venv\\Scripts\\python.exe -m pip install --upgrade pip' command.\n"
     ]
    }
   ],
   "source": [
    "pip install qrcode pillow"
   ]
  },
  {
   "cell_type": "code",
   "execution_count": null,
   "id": "3a632bf8",
   "metadata": {},
   "outputs": [
    {
     "name": "stdout",
     "output_type": "stream",
     "text": [
      "[['낮말은 새가 듣고', '밤말은 쥐가 듣는다']]\n",
      "속담: \"['가는 말이 고와야', '오는 말이 곱다'] ____\"\n",
      "오답입니다. 힌트:\"윗물이 맑아야\"\n",
      "\n"
     ]
    }
   ],
   "source": [
    "import random\n",
    "import qrcode\n",
    "\n",
    "proverbs = [[\"가는 말이 고와야\", \"오는 말이 곱다\"],\n",
    "        [\"낮말은 새가 듣고\", \"밤말은 쥐가 듣는다\"],\n",
    "        [\"말 한마디에\", \"천 냥 빚도 갚는다\"],\n",
    "        [\"빈 수레가\", \"요란하다\"],\n",
    "        [\"말보다 행동이\", \"앞서야 한다.\"], \n",
    "        [\"되로 주고\", \"말로 받는다\"], \n",
    "        [\"윗물이 맑아야\", \"아랫물이 맑다\"],\n",
    "        [\"가는 날이\", \"장날이다\"], \n",
    "        [\"입은 삐뚤어져도\", \"말은 바로 하라\"]]\n",
    "\n",
    "def check(a, b):\n",
    "    if a == b:\n",
    "        return True\n",
    "    return False\n",
    "\n",
    "questions = random.sample(proverbs, len(proverbs))\n",
    "\n",
    "for question, answer in questions:\n",
    "        \n",
    "        print(f\"속담: \\\"{front} ____\\\"\")\n",
    "        s = input(\"속담 뒷부분을 입력하세요: \").strip()\n",
    "        img = qrcode.make(answer)\n",
    "        img.show()\n",
    "        if check(answer,s):\n",
    "                print(\"정답입니다.\\n\")\n",
    "                         \n",
    "        else:\n",
    "                print(f\"오답입니다. 힌트:\\\"{answer[0]}\\\"\\n\")\n",
    "        k = input(\"한번 더 하시겠습니까? y/n \")\n",
    "        if k == \"y\":\n",
    "              print(\"한번 더 실행하겠습니다.\")\n",
    "        else:\n",
    "              break      \n",
    "                      \n",
    "\n"
   ]
  }
 ],
 "metadata": {
  "kernelspec": {
   "display_name": ".venv",
   "language": "python",
   "name": "python3"
  },
  "language_info": {
   "codemirror_mode": {
    "name": "ipython",
    "version": 3
   },
   "file_extension": ".py",
   "mimetype": "text/x-python",
   "name": "python",
   "nbconvert_exporter": "python",
   "pygments_lexer": "ipython3",
   "version": "3.9.13"
  }
 },
 "nbformat": 4,
 "nbformat_minor": 5
}
